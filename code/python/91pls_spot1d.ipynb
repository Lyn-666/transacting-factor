{
 "cells": [
  {
   "cell_type": "markdown",
   "metadata": {},
   "source": [
    "处理SPOT_1D数据"
   ]
  },
  {
   "cell_type": "code",
   "execution_count": 1,
   "metadata": {},
   "outputs": [],
   "source": [
    "import pandas as pd\n",
    "import numpy as np\n",
    "import re\n",
    "import itertools\n",
    "import math\n",
    "import os"
   ]
  },
  {
   "cell_type": "code",
   "execution_count": 2,
   "metadata": {},
   "outputs": [],
   "source": [
    "def ss3_feature(seq_ss3):\n",
    "    ##composition\n",
    "    seq=list(seq_ss3)\n",
    "    seq=''.join(seq)\n",
    "    ss3_data=np.zeros(12)\n",
    "    doub_name=['C','E','H','CC','CE','CH','EC','EE','EH','HC','HE','HH']\n",
    "    seq_doub=[a+b for a,b in zip(seq[0:len(seq)-1],seq[1:len(seq)])]\n",
    "    seq_com=pd.Series(seq_doub)\n",
    "    seq_tran=pd.Series(list(seq))\n",
    "    tran_count=seq_tran.value_counts(normalize=True)\n",
    "    com_count=seq_com.value_counts(normalize=True)\n",
    "    tran_site=[doub_name.index(i) for i in tran_count.index]\n",
    "    com_site=[doub_name.index(i) for i in com_count.index]\n",
    "    np.put(ss3_data,tran_site,tran_count.values)\n",
    "    np.put(ss3_data,com_site,com_count.values)\n",
    "   \n",
    "  # distribution    \n",
    "    for i in ['C','E','H']:\n",
    "        c_len=seq.count(i)\n",
    "        site=np.array([i.start() for i in re.finditer(i,seq)])+1\n",
    "        if c_len!=0:\n",
    "            a=math.floor(0.25*c_len)-1\n",
    "            if a==0:\n",
    "                a=0\n",
    "            b=math.floor(0.50*c_len)-1\n",
    "            if b==0:\n",
    "                b=0\n",
    "            c=math.floor(0.75*c_len)-1\n",
    "            if c==0:\n",
    "                c=0\n",
    "            dis_site=[0,a,b,c,-1]\n",
    "            distri=site[dis_site]/len(seq)\n",
    "        else:\n",
    "            distri=np.zeros(5)\n",
    "        ss3_data=np.hstack((ss3_data,distri))\n",
    "    return ss3_data ##27dim"
   ]
  },
  {
   "cell_type": "code",
   "execution_count": 11,
   "metadata": {},
   "outputs": [],
   "source": [
    "SS3_com=['SS3_composition_'+i for i in ['C','E','H']]+['SS3_trainsition_'+i for i in ['CC','CE','CH','EC','EE','EH','HC','HE','HH']]"
   ]
  },
  {
   "cell_type": "code",
   "execution_count": 66,
   "metadata": {},
   "outputs": [],
   "source": [
    "dd=['C', 'S', 'T', 'H', 'G', 'I','E', 'B', 'CC', 'CS', 'CT', 'CH', 'CG', 'CI', 'CE', 'CB', 'SC', 'SS', 'ST', 'SH', 'SG', 'SI', 'SE', 'SB', 'TC', 'TS',\n",
    " 'TT', 'TH', 'TG', 'TI', 'TE', 'TB', 'HC', 'HS', 'HT', 'HH', 'HG', 'HI', 'HE', 'HB', 'GC', 'GS', 'GT', 'GH', 'GG', 'GI', 'GE', 'GB', 'IC', 'IS',\n",
    " 'IT', 'IH', 'IG', 'II', 'IE', 'IB', 'EC', 'ES', 'ET', 'EH', 'EG', 'EI', 'EE', 'EB', 'BC', 'BS', 'BT', 'BH', 'BG', 'BI', 'BE', 'BB']"
   ]
  },
  {
   "cell_type": "code",
   "execution_count": 67,
   "metadata": {},
   "outputs": [],
   "source": [
    "def ss8_feature(seq_ss8):\n",
    "    ##composition\n",
    "    seq=list(seq_ss8)\n",
    "    seq=''.join(seq)\n",
    "    ss3_data=np.zeros(72)\n",
    "    \n",
    "    ss8='CSTHGIEB'\n",
    "    doub=[]\n",
    "    for i in itertools.product(ss8,repeat=2):\n",
    "        doub.append(\"\".join(i))\n",
    "    doub_name=list(ss8)+doub\n",
    "    #\n",
    "    seq_doub=[a+b for a,b in zip(seq[0:len(seq)-1],seq[1:len(seq)])]\n",
    "    seq_com=pd.Series(seq_doub)\n",
    "    seq_tran=pd.Series(list(seq))\n",
    "    tran_count=seq_tran.value_counts(normalize=True)\n",
    "    com_count=seq_com.value_counts(normalize=True)\n",
    "    tran_site=[doub_name.index(i) for i in tran_count.index]\n",
    "    com_site=[doub_name.index(i) for i in com_count.index]\n",
    "    np.put(ss3_data,tran_site,tran_count.values)\n",
    "    np.put(ss3_data,com_site,com_count.values)\n",
    "   \n",
    "  # distribution    \n",
    "    for i in list(ss8):\n",
    "        c_len=seq.count(i)\n",
    "        site=np.array([i.start() for i in re.finditer(i,seq)])+1\n",
    "        if c_len!=0:\n",
    "            a=math.floor(0.25*c_len)-1\n",
    "            if a==0:\n",
    "                a=0\n",
    "            b=math.floor(0.50*c_len)-1\n",
    "            if b==0:\n",
    "                b=0\n",
    "            c=math.floor(0.75*c_len)-1\n",
    "            if c==0:\n",
    "                c=0\n",
    "            dis_site=[0,a,b,c,-1]\n",
    "            distri=site[dis_site]/len(seq)\n",
    "        else:\n",
    "            distri=np.zeros(5)\n",
    "        ss3_data=np.hstack((ss3_data,distri))\n",
    "    return ss3_data #72+8*5=112"
   ]
  },
  {
   "cell_type": "code",
   "execution_count": 68,
   "metadata": {},
   "outputs": [],
   "source": [
    "def split_n(spot,n):##把特征ASA等特征均分，求均值。\n",
    "    #n :分为几等份\n",
    "    seq_feature=np.zeros(n*19) \n",
    "    d=0\n",
    "    for j in range(3,22):\n",
    "        seq=spot.iloc[:,j]\n",
    "        if len(seq)%n==0:\n",
    "            step=int(len(seq/n))\n",
    "        else:\n",
    "            step=int(len(seq)/n)+1  #每一份的长度\n",
    "        for i in range(0,len(seq),step):\n",
    "            seq_feature[d]=seq[i:i+step].mean()\n",
    "            d +=1\n",
    "    return seq_feature   #57dim"
   ]
  },
  {
   "cell_type": "code",
   "execution_count": 69,
   "metadata": {},
   "outputs": [],
   "source": [
    "def feature(spot,n):\n",
    "    ss3=ss3_feature(spot.iloc[:,1])\n",
    "    ss8=ss8_feature(spot.iloc[:,2])\n",
    "    other=split_n(spot,n)\n",
    "    structure=np.hstack((ss3,ss8,other))\n",
    "    return structure #196dim"
   ]
  },
  {
   "cell_type": "code",
   "execution_count": 70,
   "metadata": {},
   "outputs": [],
   "source": [
    "def number():\n",
    "    path='F:/zhulin/1datasz1/RNA/predict/predictRBPspot/outputs'\n",
    "    files=os.listdir(path)\n",
    "    s=[]\n",
    "    for file in files:\n",
    "        a=file[8:]\n",
    "        s.append(a[:-7])\n",
    "        b=[int(x) for x in s]\n",
    "    return b"
   ]
  },
  {
   "cell_type": "code",
   "execution_count": 71,
   "metadata": {},
   "outputs": [],
   "source": [
    "def structure_name():\n",
    "    numb=number()\n",
    "    name=[]\n",
    "    path='F:/zhulin/1datasz1/RNA/predict/predictRBP'\n",
    "    for num in numb:\n",
    "        with open (path+'/'+'predict_{}.fasta'.format(num),'r') as f:\n",
    "            lines=f.readlines() \n",
    "            head=lines[0].strip()\n",
    "            name.append(head[1:])\n",
    "    return name\n",
    "    "
   ]
  },
  {
   "cell_type": "code",
   "execution_count": 72,
   "metadata": {},
   "outputs": [],
   "source": [
    "def structure_feature(n):\n",
    "    path='F:/zhulin/1datasz1/RNA/predict/predictRBPspot/outputs'\n",
    "    numb=number()\n",
    "    s=[]\n",
    "    for num in numb:\n",
    "        with open (path+'/'+'predict_{}.spot1d'.format(num),'r') as f:\n",
    "            spot_col_names=f.readline().split('\\t')\n",
    "            spot_col_names.pop()\n",
    "            spot=pd.read_csv(f,delim_whitespace=True,names=spot_col_names)\n",
    "            spot.drop(axis=0,index=0)\n",
    "            spot.drop(axis=1,index=0)\n",
    "        s.append(feature(spot.iloc[:,1:],n))\n",
    "    featurename=structure_name()\n",
    "    col=['struc'+str(i) for i in list(range(0,196))]\n",
    "    structure=pd.DataFrame(s,columns=col,index=featurename)\n",
    "    return structure\n",
    "            "
   ]
  },
  {
   "cell_type": "code",
   "execution_count": 73,
   "metadata": {},
   "outputs": [],
   "source": [
    "struc_feature=structure_feature(3)\n",
    "outpath=\"F:/zhulin/1datasz1/RNA/predict/data\"\n",
    "struc_feature.to_csv(os.path.join(outpath,\"predict_structure_feature.csv\"))"
   ]
  },
  {
   "cell_type": "code",
   "execution_count": null,
   "metadata": {},
   "outputs": [],
   "source": []
  }
 ],
 "metadata": {
  "kernelspec": {
   "display_name": "Python 3",
   "language": "python",
   "name": "python3"
  },
  "language_info": {
   "codemirror_mode": {
    "name": "ipython",
    "version": 3
   },
   "file_extension": ".py",
   "mimetype": "text/x-python",
   "name": "python",
   "nbconvert_exporter": "python",
   "pygments_lexer": "ipython3",
   "version": "3.7.4"
  }
 },
 "nbformat": 4,
 "nbformat_minor": 2
}
